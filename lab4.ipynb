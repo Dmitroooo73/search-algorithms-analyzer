{
 "cells": [
  {
   "cell_type": "markdown",
   "metadata": {
    "id": "0z3KlfKDn4_K"
   },
   "source": [
    "# Лабораторная работа 4. \n",
    "# Методы поиска.\n"
   ]
  },
  {
   "cell_type": "markdown",
   "metadata": {
    "id": "96Gi_LEvmSVH"
   },
   "source": [
    "## Выполнил студент группы ФИО ГРУППА\n",
    "***"
   ]
  },
  {
   "cell_type": "markdown",
   "metadata": {
    "id": "GjdIp8aToKIe"
   },
   "source": [
    "### Условие\n",
    "Реализовать методы поиска в соответствии с заданием:\n",
    "1. Организовать генерацию начального набора случайных данных. \n",
    "2. Для всех вариантов добавить реализацию добавления, поиска и удаления элементов. \n",
    "3. Оценить время работы каждого алгоритма поиска и сравнить его со временем работы стандартной функции поиска, используемой в выбранном языке программирования."
   ]
  },
  {
   "cell_type": "markdown",
   "metadata": {
    "id": "LhhUXrAmotIA"
   },
   "source": [
    "### Задание №1:\n",
    "\n",
    "Бинарный поиск | Бинарное дерево | Фибоначчиев поиск | Интерполяционный поиск\n",
    "\n"
   ]
  },
  {
   "cell_type": "markdown",
   "metadata": {
    "id": "Wggfn8l7nG72"
   },
   "source": [
    "### Выполнение:"
   ]
  },
  {
   "cell_type": "code",
   "execution_count": 1,
   "metadata": {},
   "outputs": [
    {
     "name": "stdout",
     "output_type": "stream",
     "text": [
      "Поиск элемента: 591\n",
      "binary_search: позиция=591, время=0.000013 сек\n",
      "fibonacci_search: позиция=591, время=0.000021 сек\n",
      "interpolation_search: позиция=591, время=0.000012 сек\n",
      "list.index: позиция=591, время=0.000023 сек\n"
     ]
    }
   ],
   "source": [
    "import random\n",
    "import time\n",
    "\n",
    "def generate_array(size, min_value=0, max_value=1000):  \n",
    "    return sorted(random.sample(range(min_value, max_value), size))  \n",
    "\n",
    "def binary_search(arr, target):  \n",
    "    left, right = 0, len(arr) - 1  \n",
    "    while left <= right:  \n",
    "        mid = (left + right) // 2  \n",
    "        if arr[mid] == target:  \n",
    "            return mid  \n",
    "        elif arr[mid] < target:  \n",
    "            left = mid + 1  \n",
    "        else:  \n",
    "            right = mid - 1  \n",
    "    return -1  \n",
    "\n",
    "def fibonacci_search(arr, target):  \n",
    "    size = len(arr)  \n",
    "    fibMMm2 = 0  \n",
    "    fibMMm1 = 1  \n",
    "    fibM = fibMMm2 + fibMMm1  \n",
    "    while fibM < size:  \n",
    "        fibMMm2 = fibMMm1  \n",
    "        fibMMm1 = fibM  \n",
    "        fibM = fibMMm2 + fibMMm1  \n",
    "    offset = -1  \n",
    "    while fibM > 1:  \n",
    "        i = min(offset + fibMMm2, size - 1)  \n",
    "        if arr[i] < target:  \n",
    "            fibM = fibMMm1  \n",
    "            fibMMm1 = fibMMm2  \n",
    "            fibMMm2 = fibM - fibMMm1  \n",
    "            offset = i  \n",
    "        elif arr[i] > target:  \n",
    "            fibM = fibMMm2  \n",
    "            fibMMm1 -= fibMMm2  \n",
    "            fibMMm2 = fibM - fibMMm1  \n",
    "        else:\n",
    "            return i  \n",
    "    if fibMMm1 and offset + 1 < size and arr[offset + 1] == target:  \n",
    "        return offset + 1  \n",
    "    return -1  \n",
    "\n",
    "def interpolation_search(arr, target):  \n",
    "    low = 0  \n",
    "    high = len(arr) - 1  \n",
    "    while low <= high and target >= arr[low] and target <= arr[high]:  \n",
    "        if low == high:  \n",
    "            if arr[low] == target:\n",
    "                return low  \n",
    "            return -1  \n",
    "        pos = low + ((target - arr[low]) * (high - low) // (arr[high] - arr[low]))  \n",
    "        if pos >= len(arr): break  \n",
    "        if arr[pos] == target:  \n",
    "            return pos  \n",
    "        if arr[pos] < target:  \n",
    "            low = pos + 1  \n",
    "        else:  \n",
    "            high = pos - 1  \n",
    "    return -1  \n",
    "\n",
    "def add_element(arr, element):  \n",
    "    arr.append(element)  \n",
    "    arr.sort()  \n",
    "\n",
    "def remove_element(arr, element):  \n",
    "    if element in arr:  \n",
    "        arr.remove(element)  \n",
    "\n",
    "def measure_time(search_function, arr, target):  \n",
    "    start = time.time()  \n",
    "    result = search_function(arr, target)  \n",
    "    end = time.time()  \n",
    "    return (result, end - start)  \n",
    "\n",
    "if __name__ == \"__main__\":  \n",
    "    arr = generate_array(1000)  \n",
    "    target = arr[random.randint(0, 999)]  \n",
    "    print(\"Поиск элемента:\", target)  \n",
    "    for func in [binary_search, fibonacci_search, interpolation_search]:  \n",
    "        result, elapsed = measure_time(func, arr, target)  \n",
    "        print(f\"{func.__name__}: позиция={result}, время={elapsed:.6f} сек\")  \n",
    "    start = time.time()  \n",
    "    result = arr.index(target)  \n",
    "    end = time.time()  \n",
    "    print(f\"list.index: позиция={result}, время={end-start:.6f} сек\")  \n"
   ]
  },
  {
   "cell_type": "code",
   "execution_count": 2,
   "metadata": {},
   "outputs": [
    {
     "name": "stdout",
     "output_type": "stream",
     "text": [
      "Поиск элемента: 997\n",
      "BST поиск: найден=997, время=0.000014 сек\n",
      "list.index: позиция=699, время=0.000031 сек\n"
     ]
    }
   ],
   "source": [
    "import random\n",
    "import time\n",
    "\n",
    "class Node:\n",
    "    def __init__(self, key):\n",
    "        self.key = key\n",
    "        self.left = None\n",
    "        self.right = None\n",
    "\n",
    "class BinarySearchTree:\n",
    "    def __init__(self):\n",
    "        self.root = None\n",
    "\n",
    "    def insert(self, key):\n",
    "        def _insert(node, key):\n",
    "            if not node:\n",
    "                return Node(key)\n",
    "            if key < node.key:\n",
    "                node.left = _insert(node.left, key)\n",
    "            elif key > node.key:\n",
    "                node.right = _insert(node.right, key)\n",
    "            return node\n",
    "        self.root = _insert(self.root, key)\n",
    "\n",
    "    def search(self, key):\n",
    "        def _search(node, key):\n",
    "            if not node or node.key == key:\n",
    "                return node\n",
    "            if key < node.key:\n",
    "                return _search(node.left, key)\n",
    "            else:\n",
    "                return _search(node.right, key)\n",
    "        return _search(self.root, key)\n",
    "\n",
    "    def delete(self, key):\n",
    "        def _min_value_node(node):\n",
    "            current = node\n",
    "            while current.left:\n",
    "                current = current.left\n",
    "            return current\n",
    "\n",
    "        def _delete(node, key):\n",
    "            if not node:\n",
    "                return None\n",
    "            if key < node.key:\n",
    "                node.left = _delete(node.left, key)\n",
    "            elif key > node.key:\n",
    "                node.right = _delete(node.right, key)\n",
    "            else:\n",
    "                if not node.left:\n",
    "                    return node.right\n",
    "                elif not node.right:\n",
    "                    return node.left\n",
    "                temp = _min_value_node(node.right)\n",
    "                node.key = temp.key\n",
    "                node.right = _delete(node.right, temp.key)\n",
    "            return node\n",
    "\n",
    "        self.root = _delete(self.root, key)\n",
    "\n",
    "def generate_data(size, min_value=0, max_value=1000):\n",
    "    return random.sample(range(min_value, max_value), size)\n",
    "\n",
    "def measure_time_bst(bst, key, method):\n",
    "    start = time.time()\n",
    "    if method == \"search\":\n",
    "        result = bst.search(key)\n",
    "        end = time.time()\n",
    "        return (result.key if result else None, end - start)\n",
    "    elif method == \"insert\":\n",
    "        bst.insert(key)\n",
    "        end = time.time()\n",
    "        return (key, end - start)\n",
    "    elif method == \"delete\":\n",
    "        bst.delete(key)\n",
    "        end = time.time()\n",
    "        return (key, end - start)\n",
    "\n",
    "# Пример использования\n",
    "if __name__ == \"__main__\":\n",
    "    data = generate_data(1000)\n",
    "    bst = BinarySearchTree()\n",
    "    for value in data:\n",
    "        bst.insert(value)\n",
    "\n",
    "    target = random.choice(data)\n",
    "    print(\"Поиск элемента:\", target)\n",
    "\n",
    "    result, elapsed = measure_time_bst(bst, target, \"search\")\n",
    "    print(f\"BST поиск: найден={result}, время={elapsed:.6f} сек\")\n",
    "\n",
    "    start = time.time()\n",
    "    result = data.index(target)\n",
    "    end = time.time()\n",
    "    print(f\"list.index: позиция={result}, время={end-start:.6f} сек\")\n"
   ]
  },
  {
   "cell_type": "markdown",
   "metadata": {},
   "source": [
    "### Задание №2:\n",
    "\n",
    "Простое рехэширование | Рехэширование с помощью псевдослучайных чисел | Метод цепочек\n",
    "\n"
   ]
  },
  {
   "cell_type": "markdown",
   "metadata": {},
   "source": [
    "### Выполнение:"
   ]
  },
  {
   "cell_type": "code",
   "execution_count": null,
   "metadata": {},
   "outputs": [
    {
     "name": "stdout",
     "output_type": "stream",
     "text": [
      "B\n",
      "None\n"
     ]
    }
   ],
   "source": [
    "class LinearProbingHashTable:\n",
    "    def __init__(self, size=10):\n",
    "        self.size = size\n",
    "        self.table = [None] * self.size\n",
    "\n",
    "    def hash_function(self, key):\n",
    "        return key % self.size\n",
    "\n",
    "    def insert(self, key, value):\n",
    "        index = self.hash_function(key)\n",
    "        while self.table[index] is not None:\n",
    "            index = (index + 1) % self.size\n",
    "        self.table[index] = (key, value)\n",
    "\n",
    "    def search(self, key):\n",
    "        index = self.hash_function(key)\n",
    "        start_index = index\n",
    "        while self.table[index] is not None:\n",
    "            if self.table[index][0] == key:\n",
    "                return self.table[index][1]\n",
    "            index = (index + 1) % self.size\n",
    "            if index == start_index:\n",
    "                break\n",
    "        return None\n",
    "\n",
    "    def delete(self, key):\n",
    "        index = self.hash_function(key)\n",
    "        while self.table[index] is not None:\n",
    "            if self.table[index][0] == key:\n",
    "                self.table[index] = None\n",
    "                return\n",
    "            index = (index + 1) % self.size\n",
    "\n",
    "h = LinearProbingHashTable()\n",
    "h.insert(1, 'A')\n",
    "h.insert(11, 'B')\n",
    "h.insert(21, 'C')\n",
    "print(h.search(11))  \n",
    "h.delete(11)\n",
    "print(h.search(11))  \n"
   ]
  },
  {
   "cell_type": "code",
   "execution_count": null,
   "metadata": {},
   "outputs": [
    {
     "name": "stdout",
     "output_type": "stream",
     "text": [
      "A\n"
     ]
    }
   ],
   "source": [
    "import random\n",
    "\n",
    "class RandomProbingHashTable:\n",
    "    def __init__(self, size=10):\n",
    "        self.size = size\n",
    "        self.table = [None] * self.size\n",
    "\n",
    "    def hash_function(self, key):\n",
    "        return key % self.size\n",
    "\n",
    "    def insert(self, key, value):\n",
    "        index = self.hash_function(key)\n",
    "        rand = random.randint(1, self.size - 1)\n",
    "        attempts = 0\n",
    "        while self.table[index] is not None and attempts < self.size:\n",
    "            index = (index + rand) % self.size\n",
    "            attempts += 1\n",
    "        if attempts < self.size:\n",
    "            self.table[index] = (key, value)\n",
    "\n",
    "    def search(self, key):\n",
    "        index = self.hash_function(key)\n",
    "        rand = random.randint(1, self.size - 1)\n",
    "        attempts = 0\n",
    "        while self.table[index] is not None and attempts < self.size:\n",
    "            if self.table[index][0] == key:\n",
    "                return self.table[index][1]\n",
    "            index = (index + rand) % self.size\n",
    "            attempts += 1\n",
    "        return None\n",
    "\n",
    "h = RandomProbingHashTable()\n",
    "h.insert(1, 'A')\n",
    "h.insert(11, 'B')\n",
    "print(h.search(1))  \n"
   ]
  },
  {
   "cell_type": "code",
   "execution_count": null,
   "metadata": {},
   "outputs": [
    {
     "name": "stdout",
     "output_type": "stream",
     "text": [
      "B\n",
      "None\n"
     ]
    }
   ],
   "source": [
    "class Node:\n",
    "    def __init__(self, key, value):\n",
    "        self.key = key\n",
    "        self.value = value\n",
    "        self.next = None\n",
    "\n",
    "class ChainingHashTable:\n",
    "    def __init__(self, size=10):\n",
    "        self.size = size\n",
    "        self.buckets = [None] * size\n",
    "\n",
    "    def hash_function(self, key):\n",
    "        return hash(key) % self.size\n",
    "\n",
    "    def insert(self, key, value):\n",
    "        index = self.hash_function(key)\n",
    "        node = self.buckets[index]\n",
    "        if not node:\n",
    "            self.buckets[index] = Node(key, value)\n",
    "        else:\n",
    "            while node.next:\n",
    "                node = node.next\n",
    "            node.next = Node(key, value)\n",
    "\n",
    "    def search(self, key):\n",
    "        index = self.hash_function(key)\n",
    "        node = self.buckets[index]\n",
    "        while node:\n",
    "            if node.key == key:\n",
    "                return node.value\n",
    "            node = node.next\n",
    "        return None\n",
    "\n",
    "    def delete(self, key):\n",
    "        index = self.hash_function(key)\n",
    "        node = self.buckets[index]\n",
    "        prev = None\n",
    "        while node:\n",
    "            if node.key == key:\n",
    "                if prev:\n",
    "                    prev.next = node.next\n",
    "                else:\n",
    "                    self.buckets[index] = node.next\n",
    "                return\n",
    "            prev = node\n",
    "            node = node.next\n",
    "\n",
    "h = ChainingHashTable()\n",
    "h.insert(1, 'A')\n",
    "h.insert(11, 'B')\n",
    "print(h.search(11))  \n",
    "h.delete(11)\n",
    "print(h.search(11))  "
   ]
  },
  {
   "cell_type": "markdown",
   "metadata": {},
   "source": [
    "### Задание №3:\n",
    "\n",
    "Расставить на стандартной 64-клеточной шахматной доске 8 ферзей так, чтобы ни один из них не находился под боем другого. Подразумевается, что ферзь бьёт все клетки, расположенные по вертикалям, горизонталям и обеим диагоналям.\n",
    "\n",
    "Написать программу,  которая находит хотя бы один способ решения задач.\n"
   ]
  },
  {
   "cell_type": "markdown",
   "metadata": {},
   "source": [
    "### Выполнение:"
   ]
  },
  {
   "cell_type": "code",
   "execution_count": null,
   "metadata": {},
   "outputs": [
    {
     "name": "stdout",
     "output_type": "stream",
     "text": [
      "Q . . . . . . .\n",
      ". . . . Q . . .\n",
      ". . . . . . . Q\n",
      ". . . . . Q . .\n",
      ". . Q . . . . .\n",
      ". . . . . . Q .\n",
      ". Q . . . . . .\n",
      ". . . Q . . . .\n",
      "\n"
     ]
    },
    {
     "data": {
      "text/plain": [
       "True"
      ]
     },
     "execution_count": 5,
     "metadata": {},
     "output_type": "execute_result"
    }
   ],
   "source": [
    "def print_board(board):\n",
    "    for row in board:\n",
    "        print(\" \".join('Q' if cell else '.' for cell in row))\n",
    "    print()\n",
    "\n",
    "def is_safe(board, row, col, n):\n",
    "    for i in range(row):\n",
    "        if board[i][col]:\n",
    "            return False\n",
    "    for i, j in zip(range(row-1, -1, -1), range(col-1, -1, -1)):\n",
    "        if board[i][j]:\n",
    "            return False\n",
    "    for i, j in zip(range(row-1, -1, -1), range(col+1, n)):\n",
    "        if board[i][j]:\n",
    "            return False\n",
    "    return True\n",
    "\n",
    "def solve_n_queens(board, row, n):\n",
    "    if row >= n:\n",
    "        print_board(board)\n",
    "        return True\n",
    "    for col in range(n):\n",
    "        if is_safe(board, row, col, n):\n",
    "            board[row][col] = 1\n",
    "            if solve_n_queens(board, row + 1, n):\n",
    "                return True\n",
    "            board[row][col] = 0\n",
    "    return False\n",
    "\n",
    "n = 8\n",
    "board = [[0 for _ in range(n)] for _ in range(n)]\n",
    "solve_n_queens(board, 0, n)"
   ]
  },
  {
   "cell_type": "markdown",
   "metadata": {
    "id": "diOb-K7LnO5a"
   },
   "source": [
    "### Вывод\n",
    "\n",
    "В ходе лабораторной работы мы успешно познакомились с методами поиска."
   ]
  }
 ],
 "metadata": {
  "colab": {
   "provenance": [
    {
     "file_id": "1PB29AfCQqtCPpQJrN1jpaKF1cw_5iEo0",
     "timestamp": 1679127006477
    }
   ]
  },
  "kernelspec": {
   "display_name": ".venv",
   "language": "python",
   "name": "python3"
  },
  "language_info": {
   "codemirror_mode": {
    "name": "ipython",
    "version": 3
   },
   "file_extension": ".py",
   "mimetype": "text/x-python",
   "name": "python",
   "nbconvert_exporter": "python",
   "pygments_lexer": "ipython3",
   "version": "3.12.10"
  }
 },
 "nbformat": 4,
 "nbformat_minor": 0
}
